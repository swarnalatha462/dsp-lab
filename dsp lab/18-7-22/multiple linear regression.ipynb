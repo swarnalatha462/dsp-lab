{
 "cells": [
  {
   "cell_type": "code",
   "execution_count": 3,
   "id": "03f851d7",
   "metadata": {},
   "outputs": [],
   "source": [
    "import numpy as np\n",
    "import pandas as pd\n",
    "from sklearn.linear_model import LinearRegression\n",
    "import matplotlib.pyplot as plt\n",
    "from sklearn.model_selection import train_test_split"
   ]
  },
  {
   "cell_type": "code",
   "execution_count": 5,
   "id": "41aa2e0c",
   "metadata": {},
   "outputs": [
    {
     "name": "stdout",
     "output_type": "stream",
     "text": [
      "cofficient of a determination 0.368939393939394\n",
      "intercept -3.530303030302992\n",
      "cofficient: [ 2.74242424 -2.46969697]\n",
      "predicted response: [5.24242424 5.78787879 4.40909091 7.96969697 6.59090909]\n",
      "[-6.         -5.45454545 -4.90909091 -4.36363636 -3.81818182]\n"
     ]
    }
   ],
   "source": [
    "x=np.array([5,2,7,4,11,9,15,12,19,17]).reshape(-1,2)\n",
    "model=LinearRegression()\n",
    "y=np.array([7,3,5,9,6])\n",
    "model.fit(x,y)\n",
    "r_sq=model.score(x,y)\n",
    "print(\"cofficient of a determination\",r_sq)\n",
    "print(\"intercept\",model.intercept_)\n",
    "print(\"cofficient:\",model.coef_)\n",
    "y_pred=model.predict(x)\n",
    "print(\"predicted response:\",y_pred)\n",
    "x_new=np.arange(0,10).reshape(-1,2)\n",
    "y_new=model.predict(x_new)\n",
    "print(y_new)"
   ]
  },
  {
   "cell_type": "code",
   "execution_count": null,
   "id": "33150617",
   "metadata": {},
   "outputs": [],
   "source": []
  },
  {
   "cell_type": "code",
   "execution_count": null,
   "id": "8e0bc7ff",
   "metadata": {},
   "outputs": [],
   "source": []
  },
  {
   "cell_type": "code",
   "execution_count": null,
   "id": "887ed0b8",
   "metadata": {},
   "outputs": [],
   "source": []
  },
  {
   "cell_type": "code",
   "execution_count": null,
   "id": "cfea5112",
   "metadata": {},
   "outputs": [],
   "source": []
  }
 ],
 "metadata": {
  "kernelspec": {
   "display_name": "Python 3 (ipykernel)",
   "language": "python",
   "name": "python3"
  },
  "language_info": {
   "codemirror_mode": {
    "name": "ipython",
    "version": 3
   },
   "file_extension": ".py",
   "mimetype": "text/x-python",
   "name": "python",
   "nbconvert_exporter": "python",
   "pygments_lexer": "ipython3",
   "version": "3.9.7"
  }
 },
 "nbformat": 4,
 "nbformat_minor": 5
}

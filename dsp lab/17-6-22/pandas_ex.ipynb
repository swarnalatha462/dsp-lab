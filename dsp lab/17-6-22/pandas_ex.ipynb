{
 "cells": [
  {
   "cell_type": "code",
   "execution_count": 2,
   "id": "916b4f5c",
   "metadata": {},
   "outputs": [
    {
     "name": "stdout",
     "output_type": "stream",
     "text": [
      "0    1\n",
      "1    7\n",
      "2    2\n",
      "3    4\n",
      "4    5\n",
      "dtype: int64\n",
      "a    1\n",
      "b    7\n",
      "c    2\n",
      "d    4\n",
      "e    5\n",
      "dtype: int64\n",
      "7\n"
     ]
    }
   ],
   "source": [
    "import pandas as pd\n",
    "a=[1,7,2,4,5]\n",
    "myvar=pd.Series(a)\n",
    "print(myvar)\n",
    "\n",
    "myvar=pd.Series(a,index=['a','b','c','d','e'])\n",
    "print(myvar)\n",
    "print(myvar[\"b\"])\n"
   ]
  },
  {
   "cell_type": "code",
   "execution_count": 5,
   "id": "c9869ba4",
   "metadata": {},
   "outputs": [
    {
     "name": "stdout",
     "output_type": "stream",
     "text": [
      "BMW         15000\n",
      "Ferari      10000\n",
      "WATWAGON    50000\n",
      "dtype: int64\n"
     ]
    }
   ],
   "source": [
    "car={\"BMW\":15000,\"Ferari\":10000,\"WATWAGON\":50000}\n",
    "\n",
    "var=pd.Series(car)\n",
    "print(var)\n",
    "\n",
    "\n",
    "\n"
   ]
  },
  {
   "cell_type": "code",
   "execution_count": 6,
   "id": "fa30bc2e",
   "metadata": {},
   "outputs": [
    {
     "name": "stdout",
     "output_type": "stream",
     "text": [
      "   calories  duration\n",
      "0       420        50\n",
      "1       380        40\n",
      "2       390        45\n"
     ]
    }
   ],
   "source": [
    "data={\"calories\":[420,380,390],\"duration\":[50,40,45]}\n",
    "\n",
    "df=pd.DataFrame(data)\n",
    "print(df)\n",
    "\n",
    "print(df.loc[0])\n",
    "\n",
    "print(df.loc[0,1])\n",
    "\n",
    "print(df[\"calories\"])"
   ]
  },
  {
   "cell_type": "code",
   "execution_count": null,
   "id": "f2701e90",
   "metadata": {},
   "outputs": [],
   "source": [
    "\n",
    "\n",
    "\n"
   ]
  }
 ],
 "metadata": {
  "kernelspec": {
   "display_name": "Python 3 (ipykernel)",
   "language": "python",
   "name": "python3"
  },
  "language_info": {
   "codemirror_mode": {
    "name": "ipython",
    "version": 3
   },
   "file_extension": ".py",
   "mimetype": "text/x-python",
   "name": "python",
   "nbconvert_exporter": "python",
   "pygments_lexer": "ipython3",
   "version": "3.9.7"
  }
 },
 "nbformat": 4,
 "nbformat_minor": 5
}
